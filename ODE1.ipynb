{
 "cells": [
  {
   "cell_type": "markdown",
   "id": "seven-festival",
   "metadata": {},
   "source": [
    "# Computing the RFRF of a first order ODE"
   ]
  },
  {
   "cell_type": "markdown",
   "id": "hourly-rhythm",
   "metadata": {},
   "source": [
    "##### Will be using Sympy"
   ]
  },
  {
   "cell_type": "code",
   "execution_count": 1,
   "id": "static-assignment",
   "metadata": {},
   "outputs": [
    {
     "data": {
      "text/latex": [
       "$\\displaystyle \\gamma f{\\left(t \\right)} + \\frac{d}{d t} f{\\left(t \\right)} = 0$"
      ],
      "text/plain": [
       "Eq(gamma*f(t) + Derivative(f(t), t), 0)"
      ]
     },
     "execution_count": 1,
     "metadata": {},
     "output_type": "execute_result"
    }
   ],
   "source": [
    "from sympy import symbols, ode_order, Eq, diff, Function, DiracDelta, dsolve, laplace_transform, exp, apart, inverse_laplace_transform, solve\n",
    "# Define the ODE\n",
    "x, l, j, g, v, t, n, s = symbols('x,lambda,j, gamma, v, t, n, s')\n",
    "f = Function('f')(t)\n",
    "ode = Eq(diff(f, (t, 1)) + g*f, 0)\n",
    "n = ode_order(ode,f)\n",
    "\n",
    "# Rewrite the ODE as a linear, homogeneous differential equation with constant coefficients\n",
    "homogeneous_eq = ode.subs(exp(t), 0)\n",
    "\n",
    "# Find the homogeneous solution\n",
    "homogeneous_sol = dsolve(homogeneous_eq, f)\n",
    "ode"
   ]
  },
  {
   "cell_type": "code",
   "execution_count": 2,
   "id": "extensive-desperate",
   "metadata": {},
   "outputs": [
    {
     "data": {
      "text/latex": [
       "$\\displaystyle f{\\left(t \\right)} = C_{1} e^{- \\gamma t}$"
      ],
      "text/plain": [
       "Eq(f(t), C1*exp(-gamma*t))"
      ]
     },
     "execution_count": 2,
     "metadata": {},
     "output_type": "execute_result"
    }
   ],
   "source": [
    "homogeneous_sol"
   ]
  },
  {
   "cell_type": "code",
   "execution_count": 3,
   "id": "informative-husband",
   "metadata": {},
   "outputs": [
    {
     "data": {
      "text/latex": [
       "$\\displaystyle C_{1} e^{- \\gamma t}$"
      ],
      "text/plain": [
       "C1*exp(-gamma*t)"
      ]
     },
     "execution_count": 3,
     "metadata": {},
     "output_type": "execute_result"
    }
   ],
   "source": [
    "# Find the Green's function\n",
    "delta_func = DiracDelta(t)\n",
    "green_function = homogeneous_sol.rhs.subs(exp(t), 0)\n",
    "green_function = green_function.subs(f, delta_func)\n",
    "\n",
    "# Perform the Laplace transform on the Green's function\n",
    "laplace_green_function = laplace_transform(green_function, t, s, noconds=True)\n",
    "green_function"
   ]
  },
  {
   "cell_type": "code",
   "execution_count": 4,
   "id": "artistic-anchor",
   "metadata": {},
   "outputs": [
    {
     "data": {
      "text/latex": [
       "$\\displaystyle \\frac{C_{1}}{\\gamma + s}$"
      ],
      "text/plain": [
       "C1/(gamma + s)"
      ]
     },
     "execution_count": 4,
     "metadata": {},
     "output_type": "execute_result"
    }
   ],
   "source": [
    "laplace_green_function"
   ]
  },
  {
   "cell_type": "markdown",
   "id": "equipped-commonwealth",
   "metadata": {},
   "source": [
    "So far have taken the ode, returned the green function and then performed a laplace transform of th GF. "
   ]
  },
  {
   "cell_type": "markdown",
   "id": "compressed-giant",
   "metadata": {},
   "source": [
    "Will now perform the partial fraction decomposition, using the root of the polynomials in the denominator to find the RFRF"
   ]
  },
  {
   "cell_type": "code",
   "execution_count": 5,
   "id": "packed-height",
   "metadata": {},
   "outputs": [],
   "source": [
    "# Perform partial fraction decomposition\n",
    "partial_fraction = apart(laplace_green_function, s)\n",
    "a = partial_fraction**(-1)\n",
    "sol = solve((Eq(a,0)),s)\n",
    "sol.append(j*l)"
   ]
  },
  {
   "cell_type": "markdown",
   "id": "sorted-principal",
   "metadata": {},
   "source": [
    "_sol_ is the list of roots of the denominator"
   ]
  },
  {
   "cell_type": "code",
   "execution_count": 6,
   "id": "optimum-indonesia",
   "metadata": {},
   "outputs": [],
   "source": [
    "a0=ode.lhs.coeff(f.diff(t,n))\n",
    "def A(s,p):\n",
    "    n=1\n",
    "    for i in range(len(s)):\n",
    "        if i==p:\n",
    "            continue\n",
    "        n*=(s[p]-s[i])\n",
    "    return 1/n\n",
    "def V(s, p):\n",
    "    r=0\n",
    "    for i in range(p+1):\n",
    "        r+=A(sol,i)*exp(s[i]*t)\n",
    "    return r/a0"
   ]
  },
  {
   "cell_type": "code",
   "execution_count": 7,
   "id": "homeless-halloween",
   "metadata": {},
   "outputs": [
    {
     "data": {
      "text/latex": [
       "$\\displaystyle \\frac{e^{j \\lambda t}}{\\gamma + j \\lambda} + \\frac{e^{- \\gamma t}}{- \\gamma - j \\lambda}$"
      ],
      "text/plain": [
       "exp(j*lambda*t)/(gamma + j*lambda) + exp(-gamma*t)/(-gamma - j*lambda)"
      ]
     },
     "execution_count": 7,
     "metadata": {},
     "output_type": "execute_result"
    }
   ],
   "source": [
    "V(sol,n)"
   ]
  },
  {
   "cell_type": "markdown",
   "id": "silver-practitioner",
   "metadata": {},
   "source": [
    "Which is the RFRF for the given first order ODE"
   ]
  }
 ],
 "metadata": {
  "kernelspec": {
   "display_name": "Python 3",
   "language": "python",
   "name": "python3"
  },
  "language_info": {
   "codemirror_mode": {
    "name": "ipython",
    "version": 3
   },
   "file_extension": ".py",
   "mimetype": "text/x-python",
   "name": "python",
   "nbconvert_exporter": "python",
   "pygments_lexer": "ipython3",
   "version": "3.9.0"
  }
 },
 "nbformat": 4,
 "nbformat_minor": 5
}
