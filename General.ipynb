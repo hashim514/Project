{
 "cells": [
  {
   "cell_type": "markdown",
   "id": "civil-infrared",
   "metadata": {},
   "source": [
    "# General solution for computing the RFRF of a given ode"
   ]
  },
  {
   "cell_type": "code",
   "execution_count": null,
   "id": "realistic-academy",
   "metadata": {},
   "outputs": [],
   "source": [
    "from sympy import symbols, ode_order, Eq, diff, Function, DiracDelta, dsolve, laplace_transform, exp, apart, inverse_laplace_transform, solve\n",
    "# Define the ODE\n",
    "l, j, g, t, s = symbols('lambda,j, gamma, t, s')\n",
    "f = Function('f')(t)\n",
    "ode = #Would take this as an input\n",
    "n = ode_order(ode,f)\n",
    "\n",
    "# Rewrite the ODE as a linear, homogeneous differential equation with constant coefficients\n",
    "homogeneous_eq = ode.subs(exp(t), 0)\n",
    "\n",
    "# Find the homogeneous solution\n",
    "homogeneous_sol = dsolve(homogeneous_eq, f)"
   ]
  },
  {
   "cell_type": "code",
   "execution_count": null,
   "id": "progressive-malawi",
   "metadata": {},
   "outputs": [],
   "source": [
    "# Find the Green's function\n",
    "delta_func = DiracDelta(t)\n",
    "green_function = homogeneous_sol.rhs.subs(exp(t), 0)\n",
    "green_function = green_function.subs(f, delta_func)\n",
    "\n",
    "# Perform the Laplace transform on the Green's function\n",
    "laplace_green_function = laplace_transform(green_function, t, s, noconds=True)"
   ]
  },
  {
   "cell_type": "code",
   "execution_count": null,
   "id": "three-cocktail",
   "metadata": {},
   "outputs": [],
   "source": [
    "# Perform partial fraction decomposition\n",
    "partial_fraction = apart(laplace_green_function, s)\n",
    "a = partial_fraction**(-1)\n",
    "sol = solve((Eq(a,0)),s)\n",
    "sol.append(j*l)"
   ]
  },
  {
   "cell_type": "code",
   "execution_count": null,
   "id": "apart-astronomy",
   "metadata": {},
   "outputs": [],
   "source": [
    "a0=ode.lhs.coeff(f.diff(t,n))\n",
    "def A(s,p): #equation 8 in paper\n",
    "    n=1\n",
    "    for i in range(len(s)):\n",
    "        if i==p:\n",
    "            continue\n",
    "        n*=(s[p]-s[i])\n",
    "    return 1/n\n",
    "def V(s, p): #RFRF\n",
    "    r=0\n",
    "    for i in range(p+1):\n",
    "        r+=A(sol,i)*exp(s[i]*t)\n",
    "    return r/a0"
   ]
  },
  {
   "cell_type": "code",
   "execution_count": null,
   "id": "hollow-digest",
   "metadata": {},
   "outputs": [],
   "source": [
    "V(sol,n)"
   ]
  }
 ],
 "metadata": {
  "kernelspec": {
   "display_name": "Python 3",
   "language": "python",
   "name": "python3"
  },
  "language_info": {
   "codemirror_mode": {
    "name": "ipython",
    "version": 3
   },
   "file_extension": ".py",
   "mimetype": "text/x-python",
   "name": "python",
   "nbconvert_exporter": "python",
   "pygments_lexer": "ipython3",
   "version": "3.9.0"
  }
 },
 "nbformat": 4,
 "nbformat_minor": 5
}
