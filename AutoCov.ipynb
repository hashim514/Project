{
 "cells": [
  {
   "cell_type": "code",
   "execution_count": 1,
   "id": "artificial-average",
   "metadata": {
    "tags": []
   },
   "outputs": [],
   "source": [
    "from sympy import symbols, Symbol, Eq, diff, Function, DiracDelta, dsolve, integrate, laplace_transform, exp, simplify, wronskian, apart, inverse_laplace_transform\n",
    "\n",
    "# Define the ODE\n",
    "x, w = symbols('x,w')\n",
    "x0 = symbols('x0')\n",
    "f = Function('f')(x)\n",
    "#ode = Eq(f.diff(x, 2) + f, exp(x))\n",
    "ode = Eq(diff(f, (x, 2)) + w*f, 0)\n",
    "\n",
    "\n",
    "# Rewrite the ODE as a linear, homogeneous differential equation with constant coefficients\n",
    "homogeneous_eq = ode.subs(exp(x), 0)\n",
    "\n",
    "# Define the forcing function\n",
    "delta = Function('delta')(x)\n",
    "\n",
    "# Find the homogeneous solution\n",
    "homogeneous_sol = dsolve(homogeneous_eq, f)\n",
    "\n",
    "# Find the particular solution using the method of variation of parameters\n",
    "C1, C2 = symbols('C1 C2')\n",
    "y = homogeneous_sol.rhs.subs([(Symbol('C1'), 1), (Symbol('C2'), 0)])\n",
    "yp = homogeneous_sol.rhs.diff(x).subs([(Symbol('C1'), 0), (Symbol('C2'), 1)])\n",
    "W = simplify(wronskian([y, yp],x))\n",
    "C1 = integrate(yp*delta/W, x)\n",
    "C2 = integrate(-y*delta/W, x)\n",
    "particular_sol = C1*y + C2*yp\n",
    "\n",
    "# Find the Green's function\n",
    "delta_func = DiracDelta(x)\n",
    "green_function = homogeneous_sol.rhs.subs(exp(x), 0)\n",
    "green_function = green_function.subs(f, delta_func)\n",
    "green_function = green_function.subs(x, x - x0)\n",
    "\n",
    "# Perform the Laplace transform on the Green's function\n",
    "s = symbols('s')\n",
    "laplace_green_function = laplace_transform(green_function, x, s)"
   ]
  },
  {
   "cell_type": "code",
   "execution_count": 2,
   "id": "direct-thesaurus",
   "metadata": {},
   "outputs": [
    {
     "data": {
      "text/latex": [
       "$\\displaystyle w f{\\left(x \\right)} + \\frac{d^{2}}{d x^{2}} f{\\left(x \\right)} = 0$"
      ],
      "text/plain": [
       "Eq(w*f(x) + Derivative(f(x), (x, 2)), 0)"
      ]
     },
     "execution_count": 2,
     "metadata": {},
     "output_type": "execute_result"
    }
   ],
   "source": [
    "ode"
   ]
  },
  {
   "cell_type": "code",
   "execution_count": 3,
   "id": "collectible-horizontal",
   "metadata": {},
   "outputs": [
    {
     "data": {
      "text/latex": [
       "$\\displaystyle - \\frac{\\sqrt{- w} \\int \\delta{\\left(x \\right)} e^{x \\sqrt{- w}}\\, dx}{2 w}$"
      ],
      "text/plain": [
       "-sqrt(-w)*Integral(delta(x)*exp(x*sqrt(-w)), x)/(2*w)"
      ]
     },
     "execution_count": 3,
     "metadata": {},
     "output_type": "execute_result"
    }
   ],
   "source": [
    "C1"
   ]
  },
  {
   "cell_type": "code",
   "execution_count": 4,
   "id": "hydraulic-president",
   "metadata": {},
   "outputs": [
    {
     "data": {
      "text/latex": [
       "$\\displaystyle \\frac{\\int \\delta{\\left(x \\right)} e^{- x \\sqrt{- w}}\\, dx}{2 w}$"
      ],
      "text/plain": [
       "Integral(delta(x)*exp(-x*sqrt(-w)), x)/(2*w)"
      ]
     },
     "execution_count": 4,
     "metadata": {},
     "output_type": "execute_result"
    }
   ],
   "source": [
    "C2"
   ]
  },
  {
   "cell_type": "code",
   "execution_count": 5,
   "id": "answering-wildlife",
   "metadata": {},
   "outputs": [
    {
     "data": {
      "text/latex": [
       "$\\displaystyle \\frac{\\sqrt{- w} e^{x \\sqrt{- w}} \\int \\delta{\\left(x \\right)} e^{- x \\sqrt{- w}}\\, dx}{2 w} - \\frac{\\sqrt{- w} e^{- x \\sqrt{- w}} \\int \\delta{\\left(x \\right)} e^{x \\sqrt{- w}}\\, dx}{2 w}$"
      ],
      "text/plain": [
       "sqrt(-w)*exp(x*sqrt(-w))*Integral(delta(x)*exp(-x*sqrt(-w)), x)/(2*w) - sqrt(-w)*exp(-x*sqrt(-w))*Integral(delta(x)*exp(x*sqrt(-w)), x)/(2*w)"
      ]
     },
     "execution_count": 5,
     "metadata": {},
     "output_type": "execute_result"
    }
   ],
   "source": [
    "particular_sol"
   ]
  },
  {
   "cell_type": "code",
   "execution_count": 6,
   "id": "forced-poster",
   "metadata": {
    "tags": []
   },
   "outputs": [
    {
     "data": {
      "text/latex": [
       "$\\displaystyle C_{1} e^{- \\sqrt{- w} \\left(x - x_{0}\\right)} + C_{2} e^{\\sqrt{- w} \\left(x - x_{0}\\right)}$"
      ],
      "text/plain": [
       "C1*exp(-sqrt(-w)*(x - x0)) + C2*exp(sqrt(-w)*(x - x0))"
      ]
     },
     "execution_count": 6,
     "metadata": {},
     "output_type": "execute_result"
    }
   ],
   "source": [
    "green_function"
   ]
  },
  {
   "cell_type": "code",
   "execution_count": 7,
   "id": "interpreted-objective",
   "metadata": {},
   "outputs": [
    {
     "data": {
      "text/plain": [
       "((C1*(s - sqrt(-w))*exp(2*x0*sqrt(-w)) + C2*(s + sqrt(-w)))*exp(-x0*sqrt(-w))/((s - sqrt(-w))*(s + sqrt(-w))),\n",
       " Max(-sqrt(-w), sqrt(-w)),\n",
       " True)"
      ]
     },
     "execution_count": 7,
     "metadata": {},
     "output_type": "execute_result"
    }
   ],
   "source": [
    "laplace_green_function"
   ]
  },
  {
   "cell_type": "code",
   "execution_count": 8,
   "id": "original-sector",
   "metadata": {},
   "outputs": [],
   "source": [
    "# Perform partial fraction decomposition\n",
    "partial_fraction = apart(green_function, s)"
   ]
  },
  {
   "cell_type": "code",
   "execution_count": 9,
   "id": "acoustic-frank",
   "metadata": {},
   "outputs": [
    {
     "data": {
      "text/latex": [
       "$\\displaystyle C_{1} e^{- x \\sqrt{- w}} e^{x_{0} \\sqrt{- w}} + C_{2} e^{x \\sqrt{- w}} e^{- x_{0} \\sqrt{- w}}$"
      ],
      "text/plain": [
       "C1*exp(-x*sqrt(-w))*exp(x0*sqrt(-w)) + C2*exp(x*sqrt(-w))*exp(-x0*sqrt(-w))"
      ]
     },
     "execution_count": 9,
     "metadata": {},
     "output_type": "execute_result"
    }
   ],
   "source": [
    "partial_fraction"
   ]
  },
  {
   "cell_type": "code",
   "execution_count": null,
   "id": "lined-pakistan",
   "metadata": {},
   "outputs": [],
   "source": [
    "# Compute the product of the partial fraction and Laplace transform\n",
    "product = partial_fraction * laplace_green_function[0]\n",
    "\n",
    "# Compute the inverse Laplace transform of the product\n",
    "t = symbols('t')\n",
    "inverse_laplace = inverse_laplace_transform(product, s, t)\n"
   ]
  },
  {
   "cell_type": "code",
   "execution_count": null,
   "id": "illegal-trinity",
   "metadata": {},
   "outputs": [],
   "source": [
    "inverse_laplace"
   ]
  },
  {
   "cell_type": "code",
   "execution_count": null,
   "id": "smaller-office",
   "metadata": {},
   "outputs": [],
   "source": []
  }
 ],
 "metadata": {
  "kernelspec": {
   "display_name": "Python 3",
   "language": "python",
   "name": "python3"
  },
  "language_info": {
   "codemirror_mode": {
    "name": "ipython",
    "version": 3
   },
   "file_extension": ".py",
   "mimetype": "text/x-python",
   "name": "python",
   "nbconvert_exporter": "python",
   "pygments_lexer": "ipython3",
   "version": "3.9.0"
  }
 },
 "nbformat": 4,
 "nbformat_minor": 5
}
