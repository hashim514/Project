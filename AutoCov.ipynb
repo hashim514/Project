{
 "cells": [
  {
   "cell_type": "code",
   "execution_count": 33,
   "id": "dramatic-madonna",
   "metadata": {},
   "outputs": [
    {
     "name": "stdout",
     "output_type": "stream",
     "text": [
      "ode=  Eq(f(x) + Derivative(f(x), (x, 2)), exp(x))\n",
      "C1=  zoo*Integral(delta(x)*sin(x), x)\n",
      "C2=  zoo*Integral(delta(x)*sin(x), x)\n",
      "PS=  2*zoo*sin(x)*Integral(delta(x)*sin(x), x)\n",
      "GF=  C1*sin(x - x0) + C2*cos(x - x0)\n",
      "LGF=  ((-C1*(s*sin(x0) - cos(x0)) + C2*(s*cos(x0) + sin(x0)))/(s**2 + 1), 0, True)\n"
     ]
    }
   ],
   "source": [
    "from sympy import symbols, Symbol, Eq, diff, Function, DiracDelta, dsolve, integrate, laplace_transform, exp, simplify, wronskian, apart, inverse_laplace_transform\n",
    "\n",
    "# Define the ODE\n",
    "x = symbols('x')\n",
    "x0 = symbols('x0')\n",
    "f = Function('f')(x)\n",
    "ode = Eq(f.diff(x, 2) + f, exp(x))\n",
    "#ode = Eq(diff(f, (x, 2)) + 2 * diff(f, x) - 3*f, \n",
    "#        0)\n",
    "\n",
    "\n",
    "# Rewrite the ODE as a linear, homogeneous differential equation with constant coefficients\n",
    "homogeneous_eq = ode.subs(exp(x), 0)\n",
    "\n",
    "# Define the forcing function\n",
    "delta = Function('delta')(x)\n",
    "\n",
    "# Find the homogeneous solution\n",
    "homogeneous_sol = dsolve(homogeneous_eq, f)\n",
    "\n",
    "# Find the particular solution using the method of variation of parameters\n",
    "C1, C2 = symbols('C1 C2')\n",
    "y = homogeneous_sol.rhs.subs([(Symbol('C1'), 1), (Symbol('C2'), 0)])\n",
    "yp = homogeneous_sol.rhs.diff(x).subs([(Symbol('C1'), 0), (Symbol('C2'), 1)])\n",
    "W = simplify(wronskian([y, yp],x))\n",
    "C1 = integrate(yp*delta/W, x)\n",
    "C2 = integrate(-y*delta/W, x)\n",
    "particular_sol = C1*y + C2*yp\n",
    "\n",
    "# Find the Green's function\n",
    "delta_func = DiracDelta(x)\n",
    "green_function = homogeneous_sol.rhs.subs(exp(x), 0)\n",
    "green_function = green_function.subs(f, delta_func)\n",
    "green_function = green_function.subs(x, x - x0)\n",
    "\n",
    "# Perform the Laplace transform on the Green's function\n",
    "s = symbols('s')\n",
    "laplace_green_function = laplace_transform(green_function, x, s)\n",
    "\n",
    "print(\"ode= \",ode)\n",
    "print(\"C1= \",C1)\n",
    "print(\"C2= \",C2)\n",
    "print(\"PS= \",particular_sol)\n",
    "print(\"GF= \",green_function)\n",
    "print(\"LGF= \",laplace_green_function)\n"
   ]
  },
  {
   "cell_type": "code",
   "execution_count": 34,
   "id": "opposed-tutorial",
   "metadata": {},
   "outputs": [
    {
     "name": "stdout",
     "output_type": "stream",
     "text": [
      "C1*sin(x - x0) + C2*cos(x - x0)\n"
     ]
    }
   ],
   "source": [
    "# Perform partial fraction decomposition\n",
    "partial_fraction = apart(green_function, s)\n",
    "\n",
    "print(partial_fraction)\n"
   ]
  },
  {
   "cell_type": "code",
   "execution_count": 35,
   "id": "athletic-convention",
   "metadata": {},
   "outputs": [
    {
     "name": "stdout",
     "output_type": "stream",
     "text": [
      "(C1*sin(t - x0) + C2*cos(t - x0))*(C1*sin(x - x0) + C2*cos(x - x0))*Heaviside(t)\n"
     ]
    }
   ],
   "source": [
    "# Compute the product of the partial fraction and Laplace transform\n",
    "product = partial_fraction * laplace_green_function[0]\n",
    "\n",
    "# Compute the inverse Laplace transform of the product\n",
    "t = symbols('t')\n",
    "inverse_laplace = inverse_laplace_transform(product, s, t)\n",
    "\n",
    "print(inverse_laplace)\n"
   ]
  },
  {
   "cell_type": "code",
   "execution_count": null,
   "id": "polished-floating",
   "metadata": {},
   "outputs": [],
   "source": []
  }
 ],
 "metadata": {
  "kernelspec": {
   "display_name": "Python 3",
   "language": "python",
   "name": "python3"
  },
  "language_info": {
   "codemirror_mode": {
    "name": "ipython",
    "version": 3
   },
   "file_extension": ".py",
   "mimetype": "text/x-python",
   "name": "python",
   "nbconvert_exporter": "python",
   "pygments_lexer": "ipython3",
   "version": "3.9.0"
  }
 },
 "nbformat": 4,
 "nbformat_minor": 5
}
