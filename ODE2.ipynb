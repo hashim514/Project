{
 "cells": [
  {
   "cell_type": "markdown",
   "id": "binding-librarian",
   "metadata": {},
   "source": [
    "# Computing the RFRF of a second order ODE"
   ]
  },
  {
   "cell_type": "markdown",
   "id": "technological-portland",
   "metadata": {},
   "source": [
    "##### Will be using Sympy"
   ]
  },
  {
   "cell_type": "code",
   "execution_count": 1,
   "id": "compatible-clear",
   "metadata": {},
   "outputs": [
    {
     "data": {
      "text/latex": [
       "$\\displaystyle b f{\\left(t \\right)} + c \\frac{d}{d t} f{\\left(t \\right)} + m \\frac{d^{2}}{d t^{2}} f{\\left(t \\right)} = 0$"
      ],
      "text/plain": [
       "Eq(b*f(t) + c*Derivative(f(t), t) + m*Derivative(f(t), (t, 2)), 0)"
      ]
     },
     "execution_count": 1,
     "metadata": {},
     "output_type": "execute_result"
    }
   ],
   "source": [
    "from sympy import ode_order, symbols, Eq, diff, Function, DiracDelta, dsolve, laplace_transform, exp, apart, inverse_laplace_transform, solve\n",
    "# Define the ODE\n",
    "x, l, j, g, c, b, m, t, s = symbols('x,lambda,j,gamma,c,b,m,t,s')\n",
    "f = Function('f')(t)\n",
    "ode = Eq(m*diff(f, (t, 2)) + c*diff(f, (t,1)) + b*f ,0)\n",
    "n = ode_order(ode,f)\n",
    "\n",
    "# Rewrite the ODE as a linear, homogeneous differential equation with constant coefficients\n",
    "homogeneous_eq = ode.subs(exp(t), 0)\n",
    "\n",
    "# Find the homogeneous solution\n",
    "homogeneous_sol = dsolve(homogeneous_eq, f)\n",
    "ode"
   ]
  },
  {
   "cell_type": "code",
   "execution_count": 2,
   "id": "golden-friendly",
   "metadata": {},
   "outputs": [
    {
     "data": {
      "text/latex": [
       "$\\displaystyle f{\\left(t \\right)} = C_{1} e^{\\frac{t \\left(- c + \\sqrt{- 4 b m + c^{2}}\\right)}{2 m}} + C_{2} e^{- \\frac{t \\left(c + \\sqrt{- 4 b m + c^{2}}\\right)}{2 m}}$"
      ],
      "text/plain": [
       "Eq(f(t), C1*exp(t*(-c + sqrt(-4*b*m + c**2))/(2*m)) + C2*exp(-t*(c + sqrt(-4*b*m + c**2))/(2*m)))"
      ]
     },
     "execution_count": 2,
     "metadata": {},
     "output_type": "execute_result"
    }
   ],
   "source": [
    "homogeneous_sol"
   ]
  },
  {
   "cell_type": "code",
   "execution_count": 3,
   "id": "conscious-story",
   "metadata": {},
   "outputs": [
    {
     "data": {
      "text/latex": [
       "$\\displaystyle C_{1} e^{\\frac{t \\left(- c + \\sqrt{- 4 b m + c^{2}}\\right)}{2 m}} + C_{2} e^{- \\frac{t \\left(c + \\sqrt{- 4 b m + c^{2}}\\right)}{2 m}}$"
      ],
      "text/plain": [
       "C1*exp(t*(-c + sqrt(-4*b*m + c**2))/(2*m)) + C2*exp(-t*(c + sqrt(-4*b*m + c**2))/(2*m))"
      ]
     },
     "execution_count": 3,
     "metadata": {},
     "output_type": "execute_result"
    }
   ],
   "source": [
    "# Find the Green's function\n",
    "delta_func = DiracDelta(t)\n",
    "green_function = homogeneous_sol.rhs.subs(exp(t), 0)\n",
    "green_function = green_function.subs(f, delta_func)\n",
    "\n",
    "# Perform the Laplace transform on the Green's function\n",
    "laplace_green_function = laplace_transform(green_function, t, s, noconds=True)\n",
    "green_function"
   ]
  },
  {
   "cell_type": "code",
   "execution_count": 4,
   "id": "given-sacramento",
   "metadata": {},
   "outputs": [
    {
     "data": {
      "text/latex": [
       "$\\displaystyle \\frac{\\frac{C_{1} c}{2} + C_{1} m s + \\frac{C_{1} \\sqrt{- 4 b m + c^{2}}}{2} + \\frac{C_{2} c}{2} + C_{2} m s - \\frac{C_{2} \\sqrt{- 4 b m + c^{2}}}{2}}{b + c s + m s^{2}}$"
      ],
      "text/plain": [
       "(C1*c/2 + C1*m*s + C1*sqrt(-4*b*m + c**2)/2 + C2*c/2 + C2*m*s - C2*sqrt(-4*b*m + c**2)/2)/(b + c*s + m*s**2)"
      ]
     },
     "execution_count": 4,
     "metadata": {},
     "output_type": "execute_result"
    }
   ],
   "source": [
    "laplace_green_function"
   ]
  },
  {
   "cell_type": "code",
   "execution_count": 5,
   "id": "identified-attribute",
   "metadata": {},
   "outputs": [],
   "source": [
    "# Perform partial fraction decomposition\n",
    "partial_fraction = apart(laplace_green_function, s)\n",
    "a = partial_fraction**(-1)\n",
    "sol = solve((Eq(a,0)),s)\n",
    "sol.append(j*l)"
   ]
  },
  {
   "cell_type": "code",
   "execution_count": 6,
   "id": "acoustic-stuff",
   "metadata": {},
   "outputs": [],
   "source": [
    "a0=ode.lhs.coeff(f.diff(t,n))\n",
    "def A(s,p):\n",
    "    n=1\n",
    "    for i in range(len(s)):\n",
    "        if i==p:\n",
    "            continue\n",
    "        n*=(s[p]-s[i])\n",
    "    return 1/n\n",
    "def V(s, p):\n",
    "    r=0\n",
    "    for i in range(p+1):\n",
    "        r+=A(sol,i)*exp(s[i]*t)\n",
    "    return r/a0"
   ]
  },
  {
   "cell_type": "code",
   "execution_count": 7,
   "id": "sporting-charleston",
   "metadata": {},
   "outputs": [
    {
     "data": {
      "text/latex": [
       "$\\displaystyle \\frac{\\frac{e^{j \\lambda t}}{\\left(j \\lambda - \\frac{- c - \\sqrt{- 4 b m + c^{2}}}{2 m}\\right) \\left(j \\lambda - \\frac{- c + \\sqrt{- 4 b m + c^{2}}}{2 m}\\right)} + \\frac{e^{\\frac{t \\left(- c + \\sqrt{- 4 b m + c^{2}}\\right)}{2 m}}}{\\left(- j \\lambda + \\frac{- c + \\sqrt{- 4 b m + c^{2}}}{2 m}\\right) \\left(- \\frac{- c - \\sqrt{- 4 b m + c^{2}}}{2 m} + \\frac{- c + \\sqrt{- 4 b m + c^{2}}}{2 m}\\right)} + \\frac{e^{\\frac{t \\left(- c - \\sqrt{- 4 b m + c^{2}}\\right)}{2 m}}}{\\left(- j \\lambda + \\frac{- c - \\sqrt{- 4 b m + c^{2}}}{2 m}\\right) \\left(\\frac{- c - \\sqrt{- 4 b m + c^{2}}}{2 m} - \\frac{- c + \\sqrt{- 4 b m + c^{2}}}{2 m}\\right)}}{m}$"
      ],
      "text/plain": [
       "(exp(j*lambda*t)/((j*lambda - (-c - sqrt(-4*b*m + c**2))/(2*m))*(j*lambda - (-c + sqrt(-4*b*m + c**2))/(2*m))) + exp(t*(-c + sqrt(-4*b*m + c**2))/(2*m))/((-j*lambda + (-c + sqrt(-4*b*m + c**2))/(2*m))*(-(-c - sqrt(-4*b*m + c**2))/(2*m) + (-c + sqrt(-4*b*m + c**2))/(2*m))) + exp(t*(-c - sqrt(-4*b*m + c**2))/(2*m))/((-j*lambda + (-c - sqrt(-4*b*m + c**2))/(2*m))*((-c - sqrt(-4*b*m + c**2))/(2*m) - (-c + sqrt(-4*b*m + c**2))/(2*m))))/m"
      ]
     },
     "execution_count": 7,
     "metadata": {},
     "output_type": "execute_result"
    }
   ],
   "source": [
    "V(sol,n)"
   ]
  }
 ],
 "metadata": {
  "kernelspec": {
   "display_name": "Python 3",
   "language": "python",
   "name": "python3"
  },
  "language_info": {
   "codemirror_mode": {
    "name": "ipython",
    "version": 3
   },
   "file_extension": ".py",
   "mimetype": "text/x-python",
   "name": "python",
   "nbconvert_exporter": "python",
   "pygments_lexer": "ipython3",
   "version": "3.9.0"
  }
 },
 "nbformat": 4,
 "nbformat_minor": 5
}
